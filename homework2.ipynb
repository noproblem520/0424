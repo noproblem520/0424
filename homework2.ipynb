{
 "cells": [
  {
   "cell_type": "code",
   "execution_count": 3,
   "metadata": {},
   "outputs": [
    {
     "name": "stdout",
     "output_type": "stream",
     "text": [
      "請輸入數字(輸入q離開迴圈)456\n",
      "NO!!\n",
      "請輸入數字(輸入q離開迴圈)456\n",
      "NO!!\n",
      "請輸入數字(輸入q離開迴圈)456\n",
      "NO!!\n",
      "請輸入數字(輸入q離開迴圈)123\n",
      "NO!!\n",
      "請輸入數字(輸入q離開迴圈)AS1\n",
      "NO!!\n",
      "請輸入數字(輸入q離開迴圈)QWE\n",
      "NO!!\n",
      "請輸入數字(輸入q離開迴圈)Q\n",
      "NO!!\n",
      "請輸入數字(輸入q離開迴圈)q\n"
     ]
    }
   ],
   "source": [
    "while True :\n",
    "    number = input(\"請輸入數字(輸入q離開迴圈)\")\n",
    "    if number == \"8\" :\n",
    "        print(\"很棒\")\n",
    "        break\n",
    "    elif number == \"q\" :\n",
    "        break\n",
    "    else :\n",
    "        print(\"NO!!\")"
   ]
  },
  {
   "cell_type": "code",
   "execution_count": null,
   "metadata": {
    "collapsed": true
   },
   "outputs": [],
   "source": []
  }
 ],
 "metadata": {
  "kernelspec": {
   "display_name": "Python 3",
   "language": "python",
   "name": "python3"
  }
 },
 "nbformat": 4,
 "nbformat_minor": 2
}
